{
 "metadata": {
  "language_info": {
   "codemirror_mode": {
    "name": "ipython",
    "version": 3
   },
   "file_extension": ".py",
   "mimetype": "text/x-python",
   "name": "python",
   "nbconvert_exporter": "python",
   "pygments_lexer": "ipython3",
   "version": "3.9.2"
  },
  "orig_nbformat": 2,
  "kernelspec": {
   "name": "python392jvsc74a57bd0f4c4c03d5a08a49a7e3dd0fc9bb120accad4d516ee4f8be284f5aba1c1fc14ce",
   "display_name": "Python 3.9.2 64-bit"
  },
  "metadata": {
   "interpreter": {
    "hash": "f4c4c03d5a08a49a7e3dd0fc9bb120accad4d516ee4f8be284f5aba1c1fc14ce"
   }
  }
 },
 "nbformat": 4,
 "nbformat_minor": 2,
 "cells": [
  {
   "cell_type": "code",
   "execution_count": 20,
   "metadata": {},
   "outputs": [],
   "source": [
    "players = {\n",
    "    'vio': 30426680,\n",
    "    'dom': 17395137,\n",
    "    'misa': 24472880,\n",
    "    'aes': 29922012,\n",
    "    'alanna': 21635291,\n",
    "    'claire': 27857086,\n",
    "    'kimi': 17838658,\n",
    "    'kuraw': 30297852,\n",
    "    'moji': 29972829,\n",
    "    'raiha': 24615827,\n",
    "    'vanm': 30847835,\n",
    "    'aria': 26442222,\n",
    "    'grim': 32168476,\n",
    "    'vil': 31261293,\n",
    "    'ange': 27787223,\n",
    "    'corvo': 22821743,\n",
    "    'duck': 19295494,\n",
    "    'lance': 16208217,\n",
    "    'vanb': 31261069\n",
    "}"
   ]
  },
  {
   "source": [
    "Testing writing submitted player info into a csv file: list of player dictionaries"
   ],
   "cell_type": "markdown",
   "metadata": {}
  },
  {
   "cell_type": "code",
   "execution_count": 49,
   "metadata": {},
   "outputs": [],
   "source": [
    "import csv"
   ]
  },
  {
   "source": [
    "Write a new player into the csv file"
   ],
   "cell_type": "markdown",
   "metadata": {}
  },
  {
   "cell_type": "code",
   "execution_count": 62,
   "metadata": {},
   "outputs": [],
   "source": [
    "player_id = 21635291\n",
    "\n",
    "character = requests.get(\"https://xivapi.com/character/\" + str(player_id))\n",
    "\n",
    "submit_info = {'id': player_id,\n",
    "    'avatar': json.loads(character.content)[\"Character\"][\"Avatar\"],\n",
    "    'name': json.loads(character.content)[\"Character\"][\"Name\"],\n",
    "    'dc': json.loads(character.content)[\"Character\"][\"DC\"],\n",
    "    'server': json.loads(character.content)[\"Character\"][\"Server\"],\n",
    "    'job': 'Machinist',\n",
    "    'seeking': 'Current tier',\n",
    "    'commitment': 'Midcore',\n",
    "    'vc': 'Yes',\n",
    "    'discord': None,\n",
    "    'twitter': None,\n",
    "    'other': None}"
   ]
  },
  {
   "cell_type": "code",
   "execution_count": 63,
   "metadata": {},
   "outputs": [],
   "source": [
    "def add_player(player_info):\n",
    "    player_list.append(player_info)\n",
    "    f = open('players.csv', 'w', newline='')\n",
    "    csv_writer = csv.DictWriter(f, fieldnames=['id', 'avatar', 'name', 'dc', 'server', 'job', 'seeking', 'commitment', 'vc', 'discord', 'twitter', 'other'])\n",
    "    csv_writer.writeheader()\n",
    "    for player in player_list:\n",
    "        csv_writer.writerow(player)\n",
    "    f.close()\n",
    "\n",
    "add_player(submit_info)"
   ]
  },
  {
   "source": [
    "Read from the csv file"
   ],
   "cell_type": "markdown",
   "metadata": {}
  },
  {
   "cell_type": "code",
   "execution_count": 69,
   "metadata": {},
   "outputs": [
    {
     "output_type": "execute_result",
     "data": {
      "text/plain": [
       "[{'id': '30426680',\n",
       "  'avatar': 'https://img2.finalfantasyxiv.com/f/d42090e78c3461e2050766687903586a_7bb6b1e488f0e4f01c5314d010b60f31fc0_96x96.jpg?1619321838',\n",
       "  'name': 'Viola Pluvanis',\n",
       "  'dc': 'Elemental',\n",
       "  'server': 'Tonberry',\n",
       "  'job': 'White Mage',\n",
       "  'seeking': 'TEA',\n",
       "  'commitment': 'Midcore',\n",
       "  'vc': 'Yes',\n",
       "  'discord': '',\n",
       "  'twitter': 'boncottled',\n",
       "  'other': ''},\n",
       " {'id': '17395137',\n",
       "  'avatar': 'https://img2.finalfantasyxiv.com/f/03a2c96b62d850c9c37019c5084f522b_7bb6b1e488f0e4f01c5314d010b60f31fc0_96x96.jpg?1619328481',\n",
       "  'name': 'Darlene Dice',\n",
       "  'dc': 'Elemental',\n",
       "  'server': 'Tonberry',\n",
       "  'job': 'Paladin',\n",
       "  'seeking': 'TEA',\n",
       "  'commitment': 'Midcore',\n",
       "  'vc': 'Yes',\n",
       "  'discord': '',\n",
       "  'twitter': '',\n",
       "  'other': ''},\n",
       " {'id': '24472880',\n",
       "  'avatar': 'https://img2.finalfantasyxiv.com/f/0e5f86633ec98fa07011c42033caa6e0_7bb6b1e488f0e4f01c5314d010b60f31fc0_96x96.jpg?1619330457',\n",
       "  'name': 'Misaka Fortemps',\n",
       "  'dc': 'Elemental',\n",
       "  'server': 'Tonberry',\n",
       "  'job': 'Warrior',\n",
       "  'seeking': 'TEA',\n",
       "  'commitment': 'Hardcore',\n",
       "  'vc': 'Yes',\n",
       "  'discord': '',\n",
       "  'twitter': '',\n",
       "  'other': ''},\n",
       " {'id': '29922012',\n",
       "  'avatar': 'https://img2.finalfantasyxiv.com/f/bdef85eb149fac51bf4acfdcd21154c9_7bb6b1e488f0e4f01c5314d010b60f31fc0_96x96.jpg?1619332638',\n",
       "  'name': 'Aesgir Wyndsor',\n",
       "  'dc': 'Elemental',\n",
       "  'server': 'Tonberry',\n",
       "  'job': 'Red Mage',\n",
       "  'seeking': 'TEA',\n",
       "  'commitment': 'Midcore',\n",
       "  'vc': 'Yes',\n",
       "  'discord': '',\n",
       "  'twitter': '',\n",
       "  'other': ''},\n",
       " {'id': '21635291',\n",
       "  'avatar': 'https://img2.finalfantasyxiv.com/f/8e2a5c07bc653b0948ff722acd785437_7bb6b1e488f0e4f01c5314d010b60f31fc0_96x96.jpg?1619329417',\n",
       "  'name': 'Alanna Beoulve',\n",
       "  'dc': 'Elemental',\n",
       "  'server': 'Tonberry',\n",
       "  'job': 'Machinist',\n",
       "  'seeking': 'Current tier',\n",
       "  'commitment': 'Midcore',\n",
       "  'vc': 'Yes',\n",
       "  'discord': '',\n",
       "  'twitter': '',\n",
       "  'other': ''}]"
      ]
     },
     "metadata": {},
     "execution_count": 69
    }
   ],
   "source": [
    "\n",
    "player_list = []\n",
    "\n",
    "\n",
    "#player_id = 30426680\n",
    "#job = 'White mage'\n",
    "#commitment = 'Midcore'\n",
    "#seeking = 'TEA'\n",
    "#vc = 1\n",
    "#contact = {'discord': None, 'twitter': 'boncottled', 'other': None}\n",
    "\n",
    "\n",
    "f = open('players.csv', 'r')\n",
    "csv_reader = csv.DictReader(f)\n",
    "for row in csv_reader:\n",
    "    player_list.append(row)\n",
    "f.close()\n",
    "\n",
    "player_list"
   ]
  },
  {
   "source": [
    "Testing random stuff"
   ],
   "cell_type": "markdown",
   "metadata": {}
  },
  {
   "cell_type": "code",
   "execution_count": 81,
   "metadata": {},
   "outputs": [
    {
     "output_type": "stream",
     "name": "stdout",
     "text": [
      "------------------------\nViola Pluvanis\nElemental (Tonberry)\nMain job: White Mage\nSeeking: TEA\nCommitment level: Midcore\nVoice chat: Yes\n\n------------------------\nDarlene Dice\nElemental (Tonberry)\nMain job: Paladin\nSeeking: TEA\nCommitment level: Midcore\nVoice chat: Yes\n\n------------------------\nMisaka Fortemps\nElemental (Tonberry)\nMain job: Warrior\nSeeking: TEA\nCommitment level: Hardcore\nVoice chat: Yes\n\n------------------------\nAesgir Wyndsor\nElemental (Tonberry)\nMain job: Red Mage\nSeeking: TEA\nCommitment level: Midcore\nVoice chat: Yes\n\n------------------------\nAlanna Beoulve\nElemental (Tonberry)\nMain job: Machinist\nSeeking: Current tier\nCommitment level: Midcore\nVoice chat: Yes\n\n"
     ]
    }
   ],
   "source": [
    "# List out the basic info of every registered player\n",
    "\n",
    "for player in player_list:\n",
    "    print('------------------------\\n' + player['name'] + '\\n' + player['dc'] + ' (' + player['server']\n",
    "        + ')\\nMain job: ' + player['job'] + '\\nSeeking: ' + player['seeking']\n",
    "        + '\\nCommitment level: ' + player['commitment'] + '\\nVoice chat: ' + player['vc'] + '\\n')\n",
    "    "
   ]
  },
  {
   "cell_type": "code",
   "execution_count": 6,
   "metadata": {},
   "outputs": [],
   "source": [
    "import requests\n",
    "import json\n",
    "import asyncio\n",
    "import aiohttp\n",
    "import pyxivapi\n",
    "\n",
    "character = requests.get(\"https://xivapi.com/character/30426680\")\n",
    "#json.loads(character.content)[\"Character\"]\n",
    "\n",
    "#f = open('vio_info.txt', 'w')\n",
    "#for x in json.loads(character.content)[\"Character\"]:\n",
    "#   f.write(x + '\\n')\n",
    "#f.close()"
   ]
  },
  {
   "cell_type": "code",
   "execution_count": 7,
   "metadata": {},
   "outputs": [
    {
     "output_type": "stream",
     "name": "stdout",
     "text": [
      "Viola Pluvanis\nElemental (Tonberry)\nThe Breaderhood\n\n"
     ]
    },
    {
     "output_type": "execute_result",
     "data": {
      "text/plain": [
       "{'Tank': {'Gladiator': 0, 'Marauder': 0, 'Dark Knight': 0, 'Gunbreaker': 80},\n",
       " 'Healer': {'White Mage': 80, 'Scholar': 0, 'Astrologian': 80},\n",
       " 'DPS': {'Pugilist': 0,\n",
       "  'Lancer': 0,\n",
       "  'Rogue': 1,\n",
       "  'Samurai': 80,\n",
       "  'Bard': 30,\n",
       "  'Machinist': 0,\n",
       "  'Dancer': 80,\n",
       "  'Black Mage': 37,\n",
       "  'Arcanist': 0,\n",
       "  'Red Mage': 80,\n",
       "  'Blue Mage (Limited Job)': 70}}"
      ]
     },
     "metadata": {},
     "execution_count": 7
    }
   ],
   "source": [
    "#def make_character(id)\n",
    "\n",
    "jobs = {'Tank': {}, 'Healer': {}, 'DPS': {}}\n",
    "\n",
    "for job in json.loads(character.content)[\"Character\"][\"ClassJobs\"][0:4]:\n",
    "    j = job['UnlockedState']['Name']\n",
    "    level = job['Level']\n",
    "    jobs['Tank'][j] = level\n",
    "\n",
    "for job in json.loads(character.content)[\"Character\"][\"ClassJobs\"][4:8]:\n",
    "    j = job['UnlockedState']['Name']\n",
    "    level = job['Level']\n",
    "    jobs['DPS'][j] = level\n",
    "\n",
    "for job in json.loads(character.content)[\"Character\"][\"ClassJobs\"][8:11]:\n",
    "    j = job['UnlockedState']['Name']\n",
    "    level = job['Level']\n",
    "    jobs['Healer'][j] = level\n",
    "\n",
    "for job in json.loads(character.content)[\"Character\"][\"ClassJobs\"][11:18]:\n",
    "    j = job['UnlockedState']['Name']\n",
    "    level = job['Level']\n",
    "    jobs['DPS'][j] = level\n",
    "\n",
    "print(\n",
    "    json.loads(character.content)[\"Character\"][\"Name\"] + '\\n'\n",
    "    + json.loads(character.content)[\"Character\"][\"DC\"]\n",
    "    + ' (' + json.loads(character.content)[\"Character\"][\"Server\"] + ')\\n'\n",
    "    + json.loads(character.content)[\"Character\"][\"FreeCompanyName\"] + '\\n'\n",
    ")\n",
    "jobs"
   ]
  },
  {
   "cell_type": "code",
   "execution_count": 19,
   "metadata": {},
   "outputs": [
    {
     "output_type": "execute_result",
     "data": {
      "text/plain": [
       "'Viola Pluvanis\\nElemental (Tonberry)\\nThe Breaderhood'"
      ]
     },
     "metadata": {},
     "execution_count": 19
    }
   ],
   "source": [
    "id = 30426680\n",
    "character = requests.get(\"https://xivapi.com/character/\" + str(id))\n",
    "\n",
    "jobs = {'Tank': {}, 'Healer': {}, 'DPS': {}}\n",
    "\n",
    "for job in json.loads(character.content)[\"Character\"][\"ClassJobs\"][0:4]:\n",
    "    j = job['UnlockedState']['Name']\n",
    "    level = job['Level']\n",
    "    jobs['Tank'][j] = level\n",
    "\n",
    "for job in json.loads(character.content)[\"Character\"][\"ClassJobs\"][4:8]:\n",
    "    j = job['UnlockedState']['Name']\n",
    "    level = job['Level']\n",
    "    jobs['DPS'][j] = level\n",
    "\n",
    "for job in json.loads(character.content)[\"Character\"][\"ClassJobs\"][8:11]:\n",
    "    j = job['UnlockedState']['Name']\n",
    "    level = job['Level']\n",
    "    jobs['Healer'][j] = level\n",
    "\n",
    "for job in json.loads(character.content)[\"Character\"][\"ClassJobs\"][11:18]:\n",
    "    j = job['UnlockedState']['Name']\n",
    "    level = job['Level']\n",
    "    jobs['DPS'][j] = level\n",
    "\n",
    "#avatar = json.loads(character.content)['Character']['Avatar']\n",
    "#img(src=avatar)\n",
    "\n",
    "char_info = json.loads(character.content)[\"Character\"][\"Name\"] + \"\\n\" + json.loads(character.content)[\"Character\"][\"DC\"] + ' (' + json.loads(character.content)[\"Character\"][\"Server\"] + ')\\n' + json.loads(character.content)[\"Character\"][\"FreeCompanyName\"]\n",
    "\n",
    "char_info"
   ]
  },
  {
   "cell_type": "code",
   "execution_count": null,
   "metadata": {},
   "outputs": [],
   "source": []
  }
 ]
}